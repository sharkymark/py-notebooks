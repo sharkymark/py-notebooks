{
 "cells": [
  {
   "cell_type": "markdown",
   "id": "b1d824e0",
   "metadata": {},
   "source": [
    "# GlareDB Analysis of Online Retail Dataset\n",
    "\n",
    "This notebook loads the previously saved CSV files from the 'sets' directory and analyzes them using GlareDB, with focus on the dataset containing invoice numbers without letters."
   ]
  },
  {
   "cell_type": "code",
   "execution_count": 1,
   "id": "b9186bd8",
   "metadata": {},
   "outputs": [
    {
     "name": "stdout",
     "output_type": "stream",
     "text": [
      "\n",
      "\u001b[1m[\u001b[0m\u001b[34;49mnotice\u001b[0m\u001b[1;39;49m]\u001b[0m\u001b[39;49m A new release of pip is available: \u001b[0m\u001b[31;49m25.0.1\u001b[0m\u001b[39;49m -> \u001b[0m\u001b[32;49m25.1.1\u001b[0m\n",
      "\u001b[1m[\u001b[0m\u001b[34;49mnotice\u001b[0m\u001b[1;39;49m]\u001b[0m\u001b[39;49m To update, run: \u001b[0m\u001b[32;49mpip install --upgrade pip\u001b[0m\n"
     ]
    }
   ],
   "source": [
    "# Install GlareDB package\n",
    "!pip install --quiet glaredb"
   ]
  },
  {
   "cell_type": "code",
   "execution_count": 2,
   "id": "572ccca2",
   "metadata": {},
   "outputs": [],
   "source": [
    "# Import necessary libraries\n",
    "import pandas as pd\n",
    "import os\n",
    "import glaredb\n",
    "import warnings\n",
    "warnings.filterwarnings('ignore')"
   ]
  },
  {
   "cell_type": "code",
   "execution_count": 3,
   "id": "87abb3c7",
   "metadata": {},
   "outputs": [
    {
     "name": "stdout",
     "output_type": "stream",
     "text": [
      "Connected to GlareDB\n"
     ]
    }
   ],
   "source": [
    "# Connect to GlareDB\n",
    "conn = glaredb.connect()\n",
    "print(\"Connected to GlareDB\")"
   ]
  },
  {
   "cell_type": "code",
   "execution_count": 6,
   "id": "c3b4e6e5",
   "metadata": {},
   "outputs": [
    {
     "name": "stdout",
     "output_type": "stream",
     "text": [
      "Found CSV files at:\n",
      "- /home/coder/src/query/sets/invoices_with_letters.csv\n",
      "- /home/coder/src/query/sets/invoices_no_letters.csv\n"
     ]
    }
   ],
   "source": [
    "# Define path to the sets directory and file paths\n",
    "sets_dir = os.path.join(os.getcwd(), 'sets')\n",
    "\n",
    "# Locate both datasets in CSV files\n",
    "letters_file = os.path.join(sets_dir, 'invoices_with_letters.csv')\n",
    "no_letters_file = os.path.join(sets_dir, 'invoices_no_letters.csv')\n",
    "\n",
    "# Check if files exist\n",
    "if os.path.exists(letters_file) and os.path.exists(no_letters_file):\n",
    "    print(f\"Found CSV files at:\\n- {letters_file}\\n- {no_letters_file}\")\n",
    "else:\n",
    "    print(\"Error: One or both files not found in the sets directory!\")"
   ]
  },
  {
   "cell_type": "code",
   "execution_count": null,
   "id": "b07507f7",
   "metadata": {},
   "outputs": [
    {
     "name": "stdout",
     "output_type": "stream",
     "text": [
      "Describing the structure of the dataset with no letters:\n",
      "┌────────────────────┬──────────┐\n",
      "│ column_name        │ datatype │\n",
      "│ Utf8               │ Utf8     │\n",
      "├────────────────────┼──────────┤\n",
      "│ InvoiceNo          │ Int64    │\n",
      "│ StockCode          │ Utf8     │\n",
      "│ Description        │ Utf8     │\n",
      "│ Quantity           │ Int64    │\n",
      "│ InvoiceDate        │ Utf8     │\n",
      "│ UnitPrice          │ Float64  │\n",
      "│ CustomerID         │ Float64  │\n",
      "│ Country            │ Utf8     │\n",
      "│ starts_with_letter │ Utf8     │\n",
      "└────────────────────┴──────────┘\n"
     ]
    }
   ],
   "source": [
    "# Execute DESCRIBE on the dataset with no letters\n",
    "print(\"Describing the structure of the dataset with no letters:\")\n",
    "conn.sql(\"DESCRIBE './sets/invoices_no_letters.csv'\").show()"
   ]
  },
  {
   "cell_type": "code",
   "execution_count": 9,
   "id": "c188dfd3",
   "metadata": {},
   "outputs": [
    {
     "name": "stdout",
     "output_type": "stream",
     "text": [
      "Counting rows in the dataset with no letters:\n",
      "┌────────┐\n",
      "│ count  │\n",
      "│ Int64  │\n",
      "├────────┤\n",
      "│ 532618 │\n",
      "└────────┘\n"
     ]
    }
   ],
   "source": [
    "# Execute COUNT(*) on the dataset with no letters\n",
    "print(\"Counting rows in the dataset with no letters:\")\n",
    "conn.sql(\"SELECT COUNT(*) FROM './sets/invoices_no_letters.csv'\").show()"
   ]
  },
  {
   "cell_type": "code",
   "execution_count": null,
   "id": "800a15f8",
   "metadata": {},
   "outputs": [
    {
     "name": "stdout",
     "output_type": "stream",
     "text": [
      "Selecting 5 sample rows from the dataset with no letters:\n",
      "┌───────────┬───────────┬───────────────┬──────────┬───┬────────────┬─────────┬────────────────────┐\n",
      "│ InvoiceNo │ StockCode │ Description   │ Quantity │ … │ CustomerID │ Country │ starts_with_letter │\n",
      "│ Int64     │ Utf8      │ Utf8          │ Int64    │   │ Float64    │ Utf8    │ Utf8               │\n",
      "├───────────┼───────────┼───────────────┼──────────┼───┼────────────┼─────────┼────────────────────┤\n",
      "│    536365 │ 85123A    │ WHITE HANGIN… │        6 │ … │      17850 │ United… │ False              │\n",
      "│    536365 │ 71053     │ WHITE METAL … │        6 │ … │      17850 │ United… │ False              │\n",
      "│    536365 │ 84406B    │ CREAM CUPID … │        8 │ … │      17850 │ United… │ False              │\n",
      "│    536365 │ 84029G    │ KNITTED UNIO… │        6 │ … │      17850 │ United… │ False              │\n",
      "│    536365 │ 84029E    │ RED WOOLLY H… │        6 │ … │      17850 │ United… │ False              │\n",
      "│    536365 │ 22752     │ SET 7 BABUSH… │        2 │ … │      17850 │ United… │ False              │\n",
      "│    536365 │ 21730     │ GLASS STAR F… │        6 │ … │      17850 │ United… │ False              │\n",
      "│    536366 │ 22633     │ HAND WARMER … │        6 │ … │      17850 │ United… │ False              │\n",
      "│    536366 │ 22632     │ HAND WARMER … │        6 │ … │      17850 │ United… │ False              │\n",
      "│    536367 │ 84879     │ ASSORTED COL… │       32 │ … │      13047 │ United… │ False              │\n",
      "└───────────┴───────────┴───────────────┴──────────┴───┴────────────┴─────────┴────────────────────┘\n"
     ]
    }
   ],
   "source": [
    "# Execute SELECT * LIMIT 10 on the dataset with no letters\n",
    "print(\"Selecting 10 sample rows from the dataset with no letters:\")\n",
    "conn.sql(\"SELECT * FROM './sets/invoices_no_letters.csv' LIMIT 10\").show()"
   ]
  },
  {
   "cell_type": "code",
   "execution_count": 11,
   "id": "bcabdb10",
   "metadata": {},
   "outputs": [
    {
     "name": "stdout",
     "output_type": "stream",
     "text": [
      "Describing the structure of the dataset with letters:\n",
      "┌────────────────────┬──────────┐\n",
      "│ column_name        │ datatype │\n",
      "│ Utf8               │ Utf8     │\n",
      "├────────────────────┼──────────┤\n",
      "│ InvoiceNo          │ Utf8     │\n",
      "│ StockCode          │ Utf8     │\n",
      "│ Description        │ Utf8     │\n",
      "│ Quantity           │ Int64    │\n",
      "│ InvoiceDate        │ Utf8     │\n",
      "│ UnitPrice          │ Float64  │\n",
      "│ CustomerID         │ Float64  │\n",
      "│ Country            │ Utf8     │\n",
      "│ starts_with_letter │ Utf8     │\n",
      "└────────────────────┴──────────┘\n"
     ]
    }
   ],
   "source": [
    "# Execute DESCRIBE on the dataset with letters\n",
    "print(\"Describing the structure of the dataset with letters:\")\n",
    "conn.sql(\"DESCRIBE './sets/invoices_with_letters.csv'\").show()"
   ]
  },
  {
   "cell_type": "code",
   "execution_count": 12,
   "id": "132f7b82",
   "metadata": {},
   "outputs": [
    {
     "name": "stdout",
     "output_type": "stream",
     "text": [
      "Counting rows in the dataset with letters:\n",
      "┌───────┐\n",
      "│ count │\n",
      "│ Int64 │\n",
      "├───────┤\n",
      "│  9291 │\n",
      "└───────┘\n"
     ]
    }
   ],
   "source": [
    "# Execute COUNT(*) on the dataset with letters\n",
    "print(\"Counting rows in the dataset with letters:\")\n",
    "conn.sql(\"SELECT COUNT(*) FROM './sets/invoices_with_letters.csv'\").show()"
   ]
  },
  {
   "cell_type": "code",
   "execution_count": 13,
   "id": "e8b16e84",
   "metadata": {},
   "outputs": [
    {
     "name": "stdout",
     "output_type": "stream",
     "text": [
      "Selecting 10 sample rows from the dataset with letters:\n",
      "┌───────────┬───────────┬───────────────┬──────────┬───┬────────────┬─────────┬────────────────────┐\n",
      "│ InvoiceNo │ StockCode │ Description   │ Quantity │ … │ CustomerID │ Country │ starts_with_letter │\n",
      "│ Utf8      │ Utf8      │ Utf8          │ Int64    │   │ Float64    │ Utf8    │ Utf8               │\n",
      "├───────────┼───────────┼───────────────┼──────────┼───┼────────────┼─────────┼────────────────────┤\n",
      "│ C536379   │ D         │ Discount      │       -1 │ … │      14527 │ United… │ True               │\n",
      "│ C536383   │ 35004C    │ SET OF 3 COL… │       -1 │ … │      15311 │ United… │ True               │\n",
      "│ C536391   │ 22556     │ PLASTERS IN … │      -12 │ … │      17548 │ United… │ True               │\n",
      "│ C536391   │ 21984     │ PACK OF 12 P… │      -24 │ … │      17548 │ United… │ True               │\n",
      "│ C536391   │ 21983     │ PACK OF 12 B… │      -24 │ … │      17548 │ United… │ True               │\n",
      "│ C536391   │ 21980     │ PACK OF 12 R… │      -24 │ … │      17548 │ United… │ True               │\n",
      "│ C536391   │ 21484     │ CHICK GREY H… │      -12 │ … │      17548 │ United… │ True               │\n",
      "│ C536391   │ 22557     │ PLASTERS IN … │      -12 │ … │      17548 │ United… │ True               │\n",
      "│ C536391   │ 22553     │ PLASTERS IN … │      -24 │ … │      17548 │ United… │ True               │\n",
      "│ C536506   │ 22960     │ JAM MAKING S… │       -6 │ … │      17897 │ United… │ True               │\n",
      "└───────────┴───────────┴───────────────┴──────────┴───┴────────────┴─────────┴────────────────────┘\n"
     ]
    }
   ],
   "source": [
    "# Execute SELECT * LIMIT 10 on the dataset with letters\n",
    "print(\"Selecting 10 sample rows from the dataset with letters:\")\n",
    "conn.sql(\"SELECT * FROM './sets/invoices_with_letters.csv' LIMIT 10\").show()"
   ]
  },
  {
   "cell_type": "code",
   "execution_count": 14,
   "id": "8ef3d740",
   "metadata": {},
   "outputs": [
    {
     "name": "stdout",
     "output_type": "stream",
     "text": [
      "Selecting 10 sample rows from the dataset with letters:\n"
     ]
    },
    {
     "ename": "RuntimeError",
     "evalue": "Failed to parse 'C536379' as Int64",
     "output_type": "error",
     "traceback": [
      "\u001b[31m---------------------------------------------------------------------------\u001b[39m",
      "\u001b[31mRuntimeError\u001b[39m                              Traceback (most recent call last)",
      "\u001b[36mCell\u001b[39m\u001b[36m \u001b[39m\u001b[32mIn[14]\u001b[39m\u001b[32m, line 3\u001b[39m\n\u001b[32m      1\u001b[39m \u001b[38;5;66;03m# Execute SELECT * LIMIT 10 on the dataset with letters\u001b[39;00m\n\u001b[32m      2\u001b[39m \u001b[38;5;28mprint\u001b[39m(\u001b[33m\"\u001b[39m\u001b[33mSelecting 10 sample rows from the dataset with letters:\u001b[39m\u001b[33m\"\u001b[39m)\n\u001b[32m----> \u001b[39m\u001b[32m3\u001b[39m \u001b[43mconn\u001b[49m\u001b[43m.\u001b[49m\u001b[43msql\u001b[49m\u001b[43m(\u001b[49m\u001b[33;43m\"\u001b[39;49m\u001b[33;43mSELECT * FROM \u001b[39;49m\u001b[33;43m'\u001b[39;49m\u001b[33;43mhttps://raw.githubusercontent.com/databricks/Spark-The-Definitive-Guide/refs/heads/master/data/retail-data/all/online-retail-dataset.csv\u001b[39;49m\u001b[33;43m'\u001b[39;49m\u001b[33;43m LIMIT 10\u001b[39;49m\u001b[33;43m\"\u001b[39;49m\u001b[43m)\u001b[49m.show()\n",
      "\u001b[31mRuntimeError\u001b[39m: Failed to parse 'C536379' as Int64"
     ]
    }
   ],
   "source": [
    "# Execute SELECT * LIMIT 10 on the dataset with letters\n",
    "print(\"Selecting 10 sample rows from the dataset with letters:\")\n",
    "conn.sql(\"SELECT * FROM 'https://raw.githubusercontent.com/databricks/Spark-The-Definitive-Guide/refs/heads/master/data/retail-data/all/online-retail-dataset.csv' LIMIT 10\").show()"
   ]
  },
  {
   "cell_type": "code",
   "execution_count": 15,
   "id": "18bccc68",
   "metadata": {},
   "outputs": [
    {
     "name": "stdout",
     "output_type": "stream",
     "text": [
      "Selecting 10 sample rows from the dataset with letters:\n"
     ]
    },
    {
     "ename": "RuntimeError",
     "evalue": "Failed to parse 'C536379' as Int64",
     "output_type": "error",
     "traceback": [
      "\u001b[31m---------------------------------------------------------------------------\u001b[39m",
      "\u001b[31mRuntimeError\u001b[39m                              Traceback (most recent call last)",
      "\u001b[36mCell\u001b[39m\u001b[36m \u001b[39m\u001b[32mIn[15]\u001b[39m\u001b[32m, line 3\u001b[39m\n\u001b[32m      1\u001b[39m \u001b[38;5;66;03m# Execute SELECT * LIMIT 10 on the dataset with letters\u001b[39;00m\n\u001b[32m      2\u001b[39m \u001b[38;5;28mprint\u001b[39m(\u001b[33m\"\u001b[39m\u001b[33mSelecting 10 sample rows from the dataset with letters:\u001b[39m\u001b[33m\"\u001b[39m)\n\u001b[32m----> \u001b[39m\u001b[32m3\u001b[39m \u001b[43mconn\u001b[49m\u001b[43m.\u001b[49m\u001b[43msql\u001b[49m\u001b[43m(\u001b[49m\u001b[33;43m\"\u001b[39;49m\u001b[33;43mSELECT * FROM \u001b[39;49m\u001b[33;43m'\u001b[39;49m\u001b[33;43m./sets/original_dataset.csv\u001b[39;49m\u001b[33;43m'\u001b[39;49m\u001b[33;43m LIMIT 10\u001b[39;49m\u001b[33;43m\"\u001b[39;49m\u001b[43m)\u001b[49m.show()\n",
      "\u001b[31mRuntimeError\u001b[39m: Failed to parse 'C536379' as Int64"
     ]
    }
   ],
   "source": [
    "# Execute SELECT * LIMIT 10 on the dataset with letters\n",
    "print(\"Selecting 10 sample rows from the dataset with letters:\")\n",
    "conn.sql(\"SELECT * FROM './sets/original_dataset.csv' LIMIT 10\").show()"
   ]
  },
  {
   "cell_type": "code",
   "execution_count": null,
   "id": "e73a5305",
   "metadata": {},
   "outputs": [],
   "source": [
    "# Close the GlareDB connection\n",
    "conn.close()\n",
    "print(\"GlareDB connection closed\")"
   ]
  }
 ],
 "metadata": {
  "kernelspec": {
   "display_name": "venv",
   "language": "python",
   "name": "python3"
  },
  "language_info": {
   "codemirror_mode": {
    "name": "ipython",
    "version": 3
   },
   "file_extension": ".py",
   "mimetype": "text/x-python",
   "name": "python",
   "nbconvert_exporter": "python",
   "pygments_lexer": "ipython3",
   "version": "3.13.3"
  }
 },
 "nbformat": 4,
 "nbformat_minor": 5
}
