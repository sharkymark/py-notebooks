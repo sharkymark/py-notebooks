{
 "cells": [
  {
   "cell_type": "markdown",
   "id": "6cc7dd4e",
   "metadata": {},
   "source": [
    "# Online Retail Dataset Analysis\n",
    "\n",
    "This notebook loads and examines the online retail dataset with a focus on the InvoiceId column, where some rows start with a letter."
   ]
  },
  {
   "cell_type": "code",
   "execution_count": 3,
   "id": "68a49244",
   "metadata": {},
   "outputs": [
    {
     "name": "stdout",
     "output_type": "stream",
     "text": [
      "\n",
      "\u001b[1m[\u001b[0m\u001b[34;49mnotice\u001b[0m\u001b[1;39;49m]\u001b[0m\u001b[39;49m A new release of pip is available: \u001b[0m\u001b[31;49m25.0.1\u001b[0m\u001b[39;49m -> \u001b[0m\u001b[32;49m25.1.1\u001b[0m\n",
      "\u001b[1m[\u001b[0m\u001b[34;49mnotice\u001b[0m\u001b[1;39;49m]\u001b[0m\u001b[39;49m To update, run: \u001b[0m\u001b[32;49mpip install --upgrade pip\u001b[0m\n"
     ]
    }
   ],
   "source": [
    "# Import necessary libraries\n",
    "!pip install --quiet pandas\n",
    "import pandas as pd"
   ]
  },
  {
   "cell_type": "code",
   "execution_count": 4,
   "id": "ede0ff73",
   "metadata": {},
   "outputs": [
    {
     "name": "stdout",
     "output_type": "stream",
     "text": [
      "Dataset shape: (541909, 8)\n"
     ]
    },
    {
     "data": {
      "text/html": [
       "<div>\n",
       "<style scoped>\n",
       "    .dataframe tbody tr th:only-of-type {\n",
       "        vertical-align: middle;\n",
       "    }\n",
       "\n",
       "    .dataframe tbody tr th {\n",
       "        vertical-align: top;\n",
       "    }\n",
       "\n",
       "    .dataframe thead th {\n",
       "        text-align: right;\n",
       "    }\n",
       "</style>\n",
       "<table border=\"1\" class=\"dataframe\">\n",
       "  <thead>\n",
       "    <tr style=\"text-align: right;\">\n",
       "      <th></th>\n",
       "      <th>InvoiceNo</th>\n",
       "      <th>StockCode</th>\n",
       "      <th>Description</th>\n",
       "      <th>Quantity</th>\n",
       "      <th>InvoiceDate</th>\n",
       "      <th>UnitPrice</th>\n",
       "      <th>CustomerID</th>\n",
       "      <th>Country</th>\n",
       "    </tr>\n",
       "  </thead>\n",
       "  <tbody>\n",
       "    <tr>\n",
       "      <th>0</th>\n",
       "      <td>536365</td>\n",
       "      <td>85123A</td>\n",
       "      <td>WHITE HANGING HEART T-LIGHT HOLDER</td>\n",
       "      <td>6</td>\n",
       "      <td>12/1/2010 8:26</td>\n",
       "      <td>2.55</td>\n",
       "      <td>17850.0</td>\n",
       "      <td>United Kingdom</td>\n",
       "    </tr>\n",
       "    <tr>\n",
       "      <th>1</th>\n",
       "      <td>536365</td>\n",
       "      <td>71053</td>\n",
       "      <td>WHITE METAL LANTERN</td>\n",
       "      <td>6</td>\n",
       "      <td>12/1/2010 8:26</td>\n",
       "      <td>3.39</td>\n",
       "      <td>17850.0</td>\n",
       "      <td>United Kingdom</td>\n",
       "    </tr>\n",
       "    <tr>\n",
       "      <th>2</th>\n",
       "      <td>536365</td>\n",
       "      <td>84406B</td>\n",
       "      <td>CREAM CUPID HEARTS COAT HANGER</td>\n",
       "      <td>8</td>\n",
       "      <td>12/1/2010 8:26</td>\n",
       "      <td>2.75</td>\n",
       "      <td>17850.0</td>\n",
       "      <td>United Kingdom</td>\n",
       "    </tr>\n",
       "    <tr>\n",
       "      <th>3</th>\n",
       "      <td>536365</td>\n",
       "      <td>84029G</td>\n",
       "      <td>KNITTED UNION FLAG HOT WATER BOTTLE</td>\n",
       "      <td>6</td>\n",
       "      <td>12/1/2010 8:26</td>\n",
       "      <td>3.39</td>\n",
       "      <td>17850.0</td>\n",
       "      <td>United Kingdom</td>\n",
       "    </tr>\n",
       "    <tr>\n",
       "      <th>4</th>\n",
       "      <td>536365</td>\n",
       "      <td>84029E</td>\n",
       "      <td>RED WOOLLY HOTTIE WHITE HEART.</td>\n",
       "      <td>6</td>\n",
       "      <td>12/1/2010 8:26</td>\n",
       "      <td>3.39</td>\n",
       "      <td>17850.0</td>\n",
       "      <td>United Kingdom</td>\n",
       "    </tr>\n",
       "  </tbody>\n",
       "</table>\n",
       "</div>"
      ],
      "text/plain": [
       "  InvoiceNo StockCode                          Description  Quantity  \\\n",
       "0    536365    85123A   WHITE HANGING HEART T-LIGHT HOLDER         6   \n",
       "1    536365     71053                  WHITE METAL LANTERN         6   \n",
       "2    536365    84406B       CREAM CUPID HEARTS COAT HANGER         8   \n",
       "3    536365    84029G  KNITTED UNION FLAG HOT WATER BOTTLE         6   \n",
       "4    536365    84029E       RED WOOLLY HOTTIE WHITE HEART.         6   \n",
       "\n",
       "      InvoiceDate  UnitPrice  CustomerID         Country  \n",
       "0  12/1/2010 8:26       2.55     17850.0  United Kingdom  \n",
       "1  12/1/2010 8:26       3.39     17850.0  United Kingdom  \n",
       "2  12/1/2010 8:26       2.75     17850.0  United Kingdom  \n",
       "3  12/1/2010 8:26       3.39     17850.0  United Kingdom  \n",
       "4  12/1/2010 8:26       3.39     17850.0  United Kingdom  "
      ]
     },
     "execution_count": 4,
     "metadata": {},
     "output_type": "execute_result"
    }
   ],
   "source": [
    "# Load the online retail dataset\n",
    "url = 'https://raw.githubusercontent.com/databricks/Spark-The-Definitive-Guide/refs/heads/master/data/retail-data/all/online-retail-dataset.csv'\n",
    "df = pd.read_csv(url)\n",
    "\n",
    "# Display the first few rows of the dataset\n",
    "print(f\"Dataset shape: {df.shape}\")\n",
    "df.head()"
   ]
  },
  {
   "cell_type": "code",
   "execution_count": 4,
   "id": "e1ebafd7",
   "metadata": {},
   "outputs": [
    {
     "name": "stdout",
     "output_type": "stream",
     "text": [
      "Column names in the dataset:\n",
      "['InvoiceNo', 'StockCode', 'Description', 'Quantity', 'InvoiceDate', 'UnitPrice', 'CustomerID', 'Country']\n",
      "\n",
      "First 10 values of InvoiceNo:\n",
      "['536365', '536365', '536365', '536365', '536365', '536365', '536365', '536366', '536366', '536367']\n"
     ]
    }
   ],
   "source": [
    "# Examine the InvoiceNo column (not InvoiceId as mentioned in the prompt, as the dataset uses InvoiceNo)\n",
    "print(\"Column names in the dataset:\")\n",
    "print(df.columns.tolist())\n",
    "\n",
    "# Check if we have InvoiceNo or InvoiceId\n",
    "invoice_col = 'InvoiceNo'\n",
    "\n",
    "# Check the first 10 values of the invoice column\n",
    "print(f\"\\nFirst 10 values of {invoice_col}:\")\n",
    "print(df[invoice_col].head(10).tolist())"
   ]
  },
  {
   "cell_type": "code",
   "execution_count": 5,
   "id": "68b358bc",
   "metadata": {},
   "outputs": [
    {
     "name": "stdout",
     "output_type": "stream",
     "text": [
      "Number of invoices that start with a letter: 9291 out of 541909 (1.71%)\n",
      "\n",
      "Examples of invoices that start with a letter (showing up to 20):\n",
      "['C536379', 'C536383', 'C536391', 'C536506', 'C536543', 'C536548', 'C536606', 'C536622', 'C536625', 'C536642', 'C536734', 'C536737', 'C536757', 'C536758', 'C536760', 'C536807', 'C536812', 'C536814', 'C536815', 'C536816']\n"
     ]
    }
   ],
   "source": [
    "# Analyze the pattern of invoice numbers\n",
    "\n",
    "# Function to check if a value starts with a letter\n",
    "def starts_with_letter(value):\n",
    "    if isinstance(value, str) and len(value) > 0:\n",
    "        return value[0].isalpha()\n",
    "    return False\n",
    "\n",
    "# Apply the function to the invoice column\n",
    "df['starts_with_letter'] = df[invoice_col].apply(starts_with_letter)\n",
    "\n",
    "# Count how many invoice numbers start with a letter\n",
    "letter_count = df['starts_with_letter'].sum()\n",
    "total_rows = len(df)\n",
    "\n",
    "print(f\"Number of invoices that start with a letter: {letter_count} out of {total_rows} ({letter_count/total_rows:.2%})\")\n",
    "\n",
    "# Get examples of invoices that start with a letter\n",
    "lettered_invoices = df[df['starts_with_letter']][invoice_col].unique()\n",
    "print(f\"\\nExamples of invoices that start with a letter (showing up to 20):\")\n",
    "print(lettered_invoices[:20].tolist())"
   ]
  },
  {
   "cell_type": "code",
   "execution_count": 9,
   "id": "bd05bc2d",
   "metadata": {},
   "outputs": [
    {
     "name": "stdout",
     "output_type": "stream",
     "text": [
      "DataFrame with letter invoices: 9291 rows\n",
      "DataFrame without letter invoices: 532618 rows\n"
     ]
    }
   ],
   "source": [
    "# Create separate dataframes for invoices starting with letters vs. numbers\n",
    "df_with_letters = df[df['starts_with_letter']]\n",
    "df_without_letters = df[~df['starts_with_letter']]\n",
    "\n",
    "print(f\"DataFrame with letter invoices: {df_with_letters.shape[0]} rows\")\n",
    "print(f\"DataFrame without letter invoices: {df_without_letters.shape[0]} rows\")"
   ]
  },
  {
   "cell_type": "code",
   "execution_count": 10,
   "id": "59b2fbbc",
   "metadata": {},
   "outputs": [
    {
     "name": "stdout",
     "output_type": "stream",
     "text": [
      "Sample rows from invoices starting with letters:\n"
     ]
    },
    {
     "data": {
      "text/html": [
       "<div>\n",
       "<style scoped>\n",
       "    .dataframe tbody tr th:only-of-type {\n",
       "        vertical-align: middle;\n",
       "    }\n",
       "\n",
       "    .dataframe tbody tr th {\n",
       "        vertical-align: top;\n",
       "    }\n",
       "\n",
       "    .dataframe thead th {\n",
       "        text-align: right;\n",
       "    }\n",
       "</style>\n",
       "<table border=\"1\" class=\"dataframe\">\n",
       "  <thead>\n",
       "    <tr style=\"text-align: right;\">\n",
       "      <th></th>\n",
       "      <th>InvoiceNo</th>\n",
       "      <th>StockCode</th>\n",
       "      <th>Description</th>\n",
       "      <th>Quantity</th>\n",
       "      <th>InvoiceDate</th>\n",
       "      <th>UnitPrice</th>\n",
       "      <th>CustomerID</th>\n",
       "      <th>Country</th>\n",
       "      <th>starts_with_letter</th>\n",
       "    </tr>\n",
       "  </thead>\n",
       "  <tbody>\n",
       "    <tr>\n",
       "      <th>141</th>\n",
       "      <td>C536379</td>\n",
       "      <td>D</td>\n",
       "      <td>Discount</td>\n",
       "      <td>-1</td>\n",
       "      <td>12/1/2010 9:41</td>\n",
       "      <td>27.50</td>\n",
       "      <td>14527.0</td>\n",
       "      <td>United Kingdom</td>\n",
       "      <td>True</td>\n",
       "    </tr>\n",
       "    <tr>\n",
       "      <th>154</th>\n",
       "      <td>C536383</td>\n",
       "      <td>35004C</td>\n",
       "      <td>SET OF 3 COLOURED  FLYING DUCKS</td>\n",
       "      <td>-1</td>\n",
       "      <td>12/1/2010 9:49</td>\n",
       "      <td>4.65</td>\n",
       "      <td>15311.0</td>\n",
       "      <td>United Kingdom</td>\n",
       "      <td>True</td>\n",
       "    </tr>\n",
       "    <tr>\n",
       "      <th>235</th>\n",
       "      <td>C536391</td>\n",
       "      <td>22556</td>\n",
       "      <td>PLASTERS IN TIN CIRCUS PARADE</td>\n",
       "      <td>-12</td>\n",
       "      <td>12/1/2010 10:24</td>\n",
       "      <td>1.65</td>\n",
       "      <td>17548.0</td>\n",
       "      <td>United Kingdom</td>\n",
       "      <td>True</td>\n",
       "    </tr>\n",
       "  </tbody>\n",
       "</table>\n",
       "</div>"
      ],
      "text/plain": [
       "    InvoiceNo StockCode                      Description  Quantity  \\\n",
       "141   C536379         D                         Discount        -1   \n",
       "154   C536383    35004C  SET OF 3 COLOURED  FLYING DUCKS        -1   \n",
       "235   C536391     22556   PLASTERS IN TIN CIRCUS PARADE        -12   \n",
       "\n",
       "         InvoiceDate  UnitPrice  CustomerID         Country  \\\n",
       "141   12/1/2010 9:41      27.50     14527.0  United Kingdom   \n",
       "154   12/1/2010 9:49       4.65     15311.0  United Kingdom   \n",
       "235  12/1/2010 10:24       1.65     17548.0  United Kingdom   \n",
       "\n",
       "     starts_with_letter  \n",
       "141                True  \n",
       "154                True  \n",
       "235                True  "
      ]
     },
     "execution_count": 10,
     "metadata": {},
     "output_type": "execute_result"
    }
   ],
   "source": [
    "# Sample rows from invoices starting with letters\n",
    "print(\"Sample rows from invoices starting with letters:\")\n",
    "df_with_letters.head(3)"
   ]
  },
  {
   "cell_type": "code",
   "execution_count": 11,
   "id": "7b26f540",
   "metadata": {},
   "outputs": [
    {
     "name": "stdout",
     "output_type": "stream",
     "text": [
      "Sample rows from invoices with no letters:\n"
     ]
    },
    {
     "data": {
      "text/html": [
       "<div>\n",
       "<style scoped>\n",
       "    .dataframe tbody tr th:only-of-type {\n",
       "        vertical-align: middle;\n",
       "    }\n",
       "\n",
       "    .dataframe tbody tr th {\n",
       "        vertical-align: top;\n",
       "    }\n",
       "\n",
       "    .dataframe thead th {\n",
       "        text-align: right;\n",
       "    }\n",
       "</style>\n",
       "<table border=\"1\" class=\"dataframe\">\n",
       "  <thead>\n",
       "    <tr style=\"text-align: right;\">\n",
       "      <th></th>\n",
       "      <th>InvoiceNo</th>\n",
       "      <th>StockCode</th>\n",
       "      <th>Description</th>\n",
       "      <th>Quantity</th>\n",
       "      <th>InvoiceDate</th>\n",
       "      <th>UnitPrice</th>\n",
       "      <th>CustomerID</th>\n",
       "      <th>Country</th>\n",
       "      <th>starts_with_letter</th>\n",
       "    </tr>\n",
       "  </thead>\n",
       "  <tbody>\n",
       "    <tr>\n",
       "      <th>0</th>\n",
       "      <td>536365</td>\n",
       "      <td>85123A</td>\n",
       "      <td>WHITE HANGING HEART T-LIGHT HOLDER</td>\n",
       "      <td>6</td>\n",
       "      <td>12/1/2010 8:26</td>\n",
       "      <td>2.55</td>\n",
       "      <td>17850.0</td>\n",
       "      <td>United Kingdom</td>\n",
       "      <td>False</td>\n",
       "    </tr>\n",
       "    <tr>\n",
       "      <th>1</th>\n",
       "      <td>536365</td>\n",
       "      <td>71053</td>\n",
       "      <td>WHITE METAL LANTERN</td>\n",
       "      <td>6</td>\n",
       "      <td>12/1/2010 8:26</td>\n",
       "      <td>3.39</td>\n",
       "      <td>17850.0</td>\n",
       "      <td>United Kingdom</td>\n",
       "      <td>False</td>\n",
       "    </tr>\n",
       "    <tr>\n",
       "      <th>2</th>\n",
       "      <td>536365</td>\n",
       "      <td>84406B</td>\n",
       "      <td>CREAM CUPID HEARTS COAT HANGER</td>\n",
       "      <td>8</td>\n",
       "      <td>12/1/2010 8:26</td>\n",
       "      <td>2.75</td>\n",
       "      <td>17850.0</td>\n",
       "      <td>United Kingdom</td>\n",
       "      <td>False</td>\n",
       "    </tr>\n",
       "  </tbody>\n",
       "</table>\n",
       "</div>"
      ],
      "text/plain": [
       "  InvoiceNo StockCode                         Description  Quantity  \\\n",
       "0    536365    85123A  WHITE HANGING HEART T-LIGHT HOLDER         6   \n",
       "1    536365     71053                 WHITE METAL LANTERN         6   \n",
       "2    536365    84406B      CREAM CUPID HEARTS COAT HANGER         8   \n",
       "\n",
       "      InvoiceDate  UnitPrice  CustomerID         Country  starts_with_letter  \n",
       "0  12/1/2010 8:26       2.55     17850.0  United Kingdom               False  \n",
       "1  12/1/2010 8:26       3.39     17850.0  United Kingdom               False  \n",
       "2  12/1/2010 8:26       2.75     17850.0  United Kingdom               False  "
      ]
     },
     "execution_count": 11,
     "metadata": {},
     "output_type": "execute_result"
    }
   ],
   "source": [
    "# Sample rows from invoices with no letters\n",
    "print(\"Sample rows from invoices with no letters:\")\n",
    "df_without_letters.head(3)"
   ]
  },
  {
   "cell_type": "code",
   "execution_count": 12,
   "id": "87d92b3b",
   "metadata": {},
   "outputs": [
    {
     "name": "stdout",
     "output_type": "stream",
     "text": [
      "Saved dataframe with letter invoices to: /home/coder/src/query/sets/invoices_with_letters.csv\n",
      "Saved dataframe with number invoices to: /home/coder/src/query/sets/invoices_no_letters.csv\n",
      "Number of rows saved: 9291 with letters, 532618 without letters\n"
     ]
    }
   ],
   "source": [
    "# Create 'sets' directory if it doesn't exist\n",
    "import os\n",
    "sets_dir = os.path.join(os.getcwd(), 'sets')\n",
    "os.makedirs(sets_dir, exist_ok=True)\n",
    "\n",
    "# Save dataframes to CSV files\n",
    "letters_file = os.path.join(sets_dir, 'invoices_with_letters.csv')\n",
    "no_letters_file = os.path.join(sets_dir, 'invoices_no_letters.csv')\n",
    "\n",
    "df_with_letters.to_csv(letters_file, index=False)\n",
    "df_without_letters.to_csv(no_letters_file, index=False)\n",
    "\n",
    "print(f\"Saved dataframe with letter invoices to: {letters_file}\")\n",
    "print(f\"Saved dataframe with number invoices to: {no_letters_file}\")\n",
    "print(f\"Number of rows saved: {df_with_letters.shape[0]} with letters, {df_without_letters.shape[0]} without letters\")"
   ]
  },
  {
   "cell_type": "code",
   "execution_count": 5,
   "id": "efe62bd5",
   "metadata": {},
   "outputs": [
    {
     "name": "stdout",
     "output_type": "stream",
     "text": [
      "Saved original dataset to: /home/coder/src/query/sets/original_dataset.csv\n",
      "Number of rows saved: 541909 rows, 8 columns\n"
     ]
    }
   ],
   "source": [
    "# Save the entire original dataset to a local CSV file\n",
    "import os\n",
    "\n",
    "# Ensure the sets directory exists\n",
    "sets_dir = os.path.join(os.getcwd(), 'sets')\n",
    "os.makedirs(sets_dir, exist_ok=True)\n",
    "\n",
    "# Define the path for the original dataset\n",
    "original_file = os.path.join(sets_dir, 'original_dataset.csv')\n",
    "\n",
    "# Save the entire dataframe to a CSV file\n",
    "df.to_csv(original_file, index=False)\n",
    "\n",
    "print(f\"Saved original dataset to: {original_file}\")\n",
    "print(f\"Number of rows saved: {df.shape[0]} rows, {df.shape[1]} columns\")"
   ]
  }
 ],
 "metadata": {
  "kernelspec": {
   "display_name": "venv",
   "language": "python",
   "name": "python3"
  },
  "language_info": {
   "codemirror_mode": {
    "name": "ipython",
    "version": 3
   },
   "file_extension": ".py",
   "mimetype": "text/x-python",
   "name": "python",
   "nbconvert_exporter": "python",
   "pygments_lexer": "ipython3",
   "version": "3.13.3"
  }
 },
 "nbformat": 4,
 "nbformat_minor": 5
}
