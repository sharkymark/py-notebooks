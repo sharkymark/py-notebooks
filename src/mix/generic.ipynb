{
 "cells": [
  {
   "cell_type": "code",
   "execution_count": 1,
   "metadata": {},
   "outputs": [],
   "source": [
    "# Jupyter notebook to analyze datasets to be used for machine learning training of models, and model scoring\n",
    "\n",
    "# import Pandas library to manipulate and analyze datasets\n",
    "import pandas as pd\n",
    "import numpy as np\n",
    "import os\n",
    "\n",
    "pd.set_option('display.max_columns',None)"
   ]
  },
  {
   "cell_type": "code",
   "execution_count": 2,
   "metadata": {},
   "outputs": [
    {
     "data": {
      "text/plain": [
       "'/bin:/home/coder/.local/bin:/home/coder/.vscode-server/cli/servers/Stable-e54c774e0add60467559eb0d1e229c6452cf8447/server/bin/remote-cli:/tmp/coder-script-data/bin:/usr/local/sbin:/usr/local/bin:/usr/sbin:/usr/bin:/sbin:/bin:/tmp/coder.2YzosX:/home/coder/.vscode-server/cli/servers/Stable-e54c774e0add60467559eb0d1e229c6452cf8447/server/bin/remote-cli:/tmp/coder-script-data/bin:/usr/local/sbin:/usr/local/bin:/usr/sbin:/usr/bin:/sbin:/bin:/tmp/coder.2YzosX'"
      ]
     },
     "execution_count": 2,
     "metadata": {},
     "output_type": "execute_result"
    }
   ],
   "source": [
    "# show a specific workspace environment variable: path\n",
    "os.environ['PATH']"
   ]
  },
  {
   "cell_type": "code",
   "execution_count": 3,
   "metadata": {},
   "outputs": [
    {
     "data": {
      "text/plain": [
       "'https://p92ju3rkspl0m.pit-1.try.coder.app/'"
      ]
     },
     "execution_count": 3,
     "metadata": {},
     "output_type": "execute_result"
    }
   ],
   "source": [
    "# show a specific workspace environment variable: coder agent url (coder access url)\n",
    "os.environ['CODER_AGENT_URL']"
   ]
  },
  {
   "cell_type": "code",
   "execution_count": 4,
   "metadata": {},
   "outputs": [
    {
     "data": {
      "text/plain": [
       "{'CODER_AGENT_TOKEN': '<hidden>',\n",
       " 'GIT_SSH_COMMAND': '/tmp/coder.2YzosX/coder gitssh --',\n",
       " 'USER': 'coder',\n",
       " 'SSH_CLIENT': '0.0.0.0 0 0',\n",
       " 'HOSTNAME': 'jupyter',\n",
       " 'GIT_ASKPASS': '/tmp/coder.2YzosX/coder',\n",
       " 'SHLVL': '1',\n",
       " 'HOME': '/home/coder',\n",
       " 'OLDPWD': '/home/coder/.vscode-server',\n",
       " 'SSL_CERT_FILE': '/usr/lib/ssl/certs/ca-certificates.crt',\n",
       " 'CODER_AGENT_URL': 'https://p92ju3rkspl0m.pit-1.try.coder.app/',\n",
       " '_': '/home/coder/.vscode-server/cli/servers/Stable-e54c774e0add60467559eb0d1e229c6452cf8447/server/node',\n",
       " 'VSCODE_CLI_REQUIRE_TOKEN': '<hidden>',\n",
       " 'PATH': '/bin:/home/coder/.local/bin:/home/coder/.vscode-server/cli/servers/Stable-e54c774e0add60467559eb0d1e229c6452cf8447/server/bin/remote-cli:/tmp/coder-script-data/bin:/usr/local/sbin:/usr/local/bin:/usr/sbin:/usr/bin:/sbin:/bin:/tmp/coder.2YzosX:/home/coder/.vscode-server/cli/servers/Stable-e54c774e0add60467559eb0d1e229c6452cf8447/server/bin/remote-cli:/tmp/coder-script-data/bin:/usr/local/sbin:/usr/local/bin:/usr/sbin:/usr/bin:/sbin:/bin:/tmp/coder.2YzosX',\n",
       " 'VSCODE_AGENT_FOLDER': '/home/coder/.vscode-server',\n",
       " 'CODER_WORKSPACE_AGENT_NAME': 'dev',\n",
       " 'SSL_CERT_DIR': '/usr/lib/ssl/certs',\n",
       " 'VSCODE_PROXY_URI': 'https://{{port}}--dev--jupyter--mark--p92ju3rkspl0m.pit-1.try.coder.app',\n",
       " 'LANG': 'C.UTF-8',\n",
       " 'API_KEY': '<hidden>',\n",
       " 'DEBIAN_FRONTEND': 'noninteractive',\n",
       " 'CODER_WORKSPACE_NAME': 'jupyter',\n",
       " 'CS_DISABLE_GETTING_STARTED_OVERRIDE': 'true',\n",
       " 'CODER': 'true',\n",
       " 'PWD': '/home/coder',\n",
       " 'TS_DEBUG_TRIM_WIREGUARD': 'false',\n",
       " 'SSH_CONNECTION': '0.0.0.0 0 0.0.0.0 0',\n",
       " 'CODER_AGENT_AUTH': 'token',\n",
       " 'VSCODE_CWD': '/home/coder',\n",
       " 'VSCODE_NLS_CONFIG': '{\"userLocale\":\"en\",\"osLocale\":\"en\",\"resolvedLanguage\":\"en\",\"defaultMessagesFile\":\"/home/coder/.vscode-server/cli/servers/Stable-e54c774e0add60467559eb0d1e229c6452cf8447/server/out/nls.messages.json\",\"locale\":\"en\",\"availableLanguages\":{}}',\n",
       " 'VSCODE_HANDLES_SIGPIPE': 'true',\n",
       " 'LS_COLORS': '',\n",
       " 'LESSCLOSE': '/usr/bin/lesspipe %s %s',\n",
       " 'LESSOPEN': '| /usr/bin/lesspipe %s',\n",
       " 'VSCODE_ESM_ENTRYPOINT': 'vs/workbench/api/node/extensionHostProcess',\n",
       " 'VSCODE_HANDLES_UNCAUGHT_ERRORS': 'true',\n",
       " 'BROWSER': '/home/coder/.vscode-server/cli/servers/Stable-e54c774e0add60467559eb0d1e229c6452cf8447/server/bin/helpers/browser.sh',\n",
       " 'ELECTRON_RUN_AS_NODE': '1',\n",
       " 'VSCODE_IPC_HOOK_CLI': '/tmp/vscode-ipc-f1e336b7-21cb-452e-b358-30948590c2ba.sock',\n",
       " 'VSCODE_L10N_BUNDLE_LOCATION': '',\n",
       " 'PYDEVD_IPYTHON_COMPATIBLE_DEBUGGING': '1',\n",
       " 'PYTHONUNBUFFERED': '1',\n",
       " 'PYTHONIOENCODING': 'utf-8',\n",
       " 'PYTHON_FROZEN_MODULES': 'on',\n",
       " 'PYDEVD_USE_FRAME_EVAL': 'NO',\n",
       " 'TERM': 'xterm-color',\n",
       " 'CLICOLOR': '1',\n",
       " 'FORCE_COLOR': '1',\n",
       " 'CLICOLOR_FORCE': '1',\n",
       " 'PAGER': 'cat',\n",
       " 'GIT_PAGER': 'cat',\n",
       " 'MPLBACKEND': 'module://matplotlib_inline.backend_inline'}"
      ]
     },
     "execution_count": 4,
     "metadata": {},
     "output_type": "execute_result"
    }
   ],
   "source": [
    "# show all Coder workspace environment variables\n",
    "%env\n"
   ]
  },
  {
   "cell_type": "code",
   "execution_count": 5,
   "metadata": {},
   "outputs": [],
   "source": [
    "# load datasets\n",
    "\n",
    "# boston housing sale data\n",
    "df_boston_housing = pd.read_csv('./sets/boston_housing_train.csv',sep=\",\", encoding = \"utf-8\", low_memory=False)\n",
    "\n",
    "# telco provider customer churn\n",
    "df_churn_train = pd.read_csv('./sets/customer_churn_train.csv',sep=\",\", encoding = \"utf-8\", low_memory=False)\n",
    "df_churn_test = pd.read_csv('./sets/customer_churn_test.csv',sep=\",\", encoding = \"utf-8\", low_memory=False)\n",
    "\n",
    "# bank loan defaults\n",
    "df_loan_default = pd.read_csv('./sets/loan_default_dr_train.csv',sep=\",\", encoding = \"utf-8\", low_memory=False)\n",
    "\n",
    "# hospital patient readmit\n",
    "df_readmit = pd.read_csv('./sets/patient_re_admit_train.csv',sep=\",\", encoding = \"utf-8\", low_memory=False)\n",
    "\n",
    "# customer life-time value\n",
    "df_ltv = pd.read_csv('./sets/ltv_train.csv',sep=\",\", encoding = \"utf-8\", low_memory=False)\n",
    "\n",
    "# employee retention\n",
    "df_retention = pd.read_csv('./sets/retention_train.csv',sep=\",\", encoding = \"utf-8\", low_memory=False)\n",
    "\n",
    "# tumor malignant \n",
    "df_cancer_train = pd.read_csv('./sets/cancer_train.csv',sep=\",\", encoding = \"utf-8\", low_memory=False)\n",
    "df_cancer_test = pd.read_csv('./sets/market_train.csv',sep=\",\", encoding = \"utf-8\", low_memory=False)\n"
   ]
  },
  {
   "cell_type": "code",
   "execution_count": 6,
   "metadata": {},
   "outputs": [],
   "source": [
    "# boston housing data"
   ]
  },
  {
   "cell_type": "code",
   "execution_count": 7,
   "metadata": {
    "tags": []
   },
   "outputs": [
    {
     "data": {
      "text/plain": [
       "(29998, 33)"
      ]
     },
     "execution_count": 7,
     "metadata": {},
     "output_type": "execute_result"
    }
   ],
   "source": [
    "df_boston_housing.shape"
   ]
  },
  {
   "cell_type": "code",
   "execution_count": 8,
   "metadata": {
    "tags": []
   },
   "outputs": [
    {
     "data": {
      "text/html": [
       "<div>\n",
       "<style scoped>\n",
       "    .dataframe tbody tr th:only-of-type {\n",
       "        vertical-align: middle;\n",
       "    }\n",
       "\n",
       "    .dataframe tbody tr th {\n",
       "        vertical-align: top;\n",
       "    }\n",
       "\n",
       "    .dataframe thead th {\n",
       "        text-align: right;\n",
       "    }\n",
       "</style>\n",
       "<table border=\"1\" class=\"dataframe\">\n",
       "  <thead>\n",
       "    <tr style=\"text-align: right;\">\n",
       "      <th></th>\n",
       "      <th>PID</th>\n",
       "      <th>ST_NUM</th>\n",
       "      <th>ST_NAME</th>\n",
       "      <th>ST_NAME_SUF</th>\n",
       "      <th>ZIPCODE</th>\n",
       "      <th>Assessed_Value</th>\n",
       "      <th>Lot_Area</th>\n",
       "      <th>Gross_Area</th>\n",
       "      <th>Living_Area</th>\n",
       "      <th>Owner_Occupied</th>\n",
       "      <th>Year_Built</th>\n",
       "      <th>Number_of_Floors</th>\n",
       "      <th>Total_Number_of_Rooms</th>\n",
       "      <th>Number_of_Bedrooms</th>\n",
       "      <th>Number_of_Full_Baths</th>\n",
       "      <th>Number_of_Half_Baths</th>\n",
       "      <th>Number_of_Kitchens</th>\n",
       "      <th>Has_AC</th>\n",
       "      <th>Number_of_Fireplaces</th>\n",
       "      <th>Year_Since_Remodel_or_Build</th>\n",
       "      <th>Year_Remodeled</th>\n",
       "      <th>Structure_Type</th>\n",
       "      <th>Building_Style</th>\n",
       "      <th>Roof_Type</th>\n",
       "      <th>Exterior_Finish</th>\n",
       "      <th>Main_Bathroom_Style</th>\n",
       "      <th>Main_Kitchen_Style</th>\n",
       "      <th>Heating_type</th>\n",
       "      <th>Exterior_Condition</th>\n",
       "      <th>Overall_Condition</th>\n",
       "      <th>Interior_Condition</th>\n",
       "      <th>Interior_Finish</th>\n",
       "      <th>View</th>\n",
       "    </tr>\n",
       "  </thead>\n",
       "  <tbody>\n",
       "    <tr>\n",
       "      <th>0</th>\n",
       "      <td>2001658000_</td>\n",
       "      <td>43</td>\n",
       "      <td>STRATFORD</td>\n",
       "      <td>ST</td>\n",
       "      <td>02132_</td>\n",
       "      <td>963300</td>\n",
       "      <td>20897</td>\n",
       "      <td>7396</td>\n",
       "      <td>3887</td>\n",
       "      <td>1</td>\n",
       "      <td>1910</td>\n",
       "      <td>2.0</td>\n",
       "      <td>13</td>\n",
       "      <td>4</td>\n",
       "      <td>1</td>\n",
       "      <td>1</td>\n",
       "      <td>1</td>\n",
       "      <td>1</td>\n",
       "      <td>1</td>\n",
       "      <td>3</td>\n",
       "      <td>2014</td>\n",
       "      <td>Residential</td>\n",
       "      <td>Colonial</td>\n",
       "      <td>Hip</td>\n",
       "      <td>Vinyl</td>\n",
       "      <td>Modern</td>\n",
       "      <td>Modern</td>\n",
       "      <td>Forced Air</td>\n",
       "      <td>Average</td>\n",
       "      <td>Average</td>\n",
       "      <td>Average</td>\n",
       "      <td>Normal</td>\n",
       "      <td>Average</td>\n",
       "    </tr>\n",
       "    <tr>\n",
       "      <th>1</th>\n",
       "      <td>2001659000_</td>\n",
       "      <td>47</td>\n",
       "      <td>STRATFORD</td>\n",
       "      <td>ST</td>\n",
       "      <td>02132_</td>\n",
       "      <td>915600</td>\n",
       "      <td>9856</td>\n",
       "      <td>6730</td>\n",
       "      <td>3566</td>\n",
       "      <td>1</td>\n",
       "      <td>1910</td>\n",
       "      <td>2.0</td>\n",
       "      <td>9</td>\n",
       "      <td>4</td>\n",
       "      <td>1</td>\n",
       "      <td>0</td>\n",
       "      <td>1</td>\n",
       "      <td>0</td>\n",
       "      <td>2</td>\n",
       "      <td>25</td>\n",
       "      <td>1992</td>\n",
       "      <td>Residential</td>\n",
       "      <td>Colonial</td>\n",
       "      <td>Hip</td>\n",
       "      <td>Wood Shake</td>\n",
       "      <td>Modern</td>\n",
       "      <td>Modern</td>\n",
       "      <td>Hot Water</td>\n",
       "      <td>Average</td>\n",
       "      <td>Average</td>\n",
       "      <td>Good</td>\n",
       "      <td>Normal</td>\n",
       "      <td>Average</td>\n",
       "    </tr>\n",
       "    <tr>\n",
       "      <th>2</th>\n",
       "      <td>2001660000_</td>\n",
       "      <td>53</td>\n",
       "      <td>STRATFORD</td>\n",
       "      <td>ST</td>\n",
       "      <td>02132_</td>\n",
       "      <td>911400</td>\n",
       "      <td>8415</td>\n",
       "      <td>6442</td>\n",
       "      <td>2843</td>\n",
       "      <td>1</td>\n",
       "      <td>1910</td>\n",
       "      <td>2.0</td>\n",
       "      <td>11</td>\n",
       "      <td>6</td>\n",
       "      <td>2</td>\n",
       "      <td>1</td>\n",
       "      <td>1</td>\n",
       "      <td>1</td>\n",
       "      <td>1</td>\n",
       "      <td>6</td>\n",
       "      <td>2011</td>\n",
       "      <td>Residential</td>\n",
       "      <td>Colonial</td>\n",
       "      <td>Gable</td>\n",
       "      <td>Wood Shake</td>\n",
       "      <td>Semi-Modern</td>\n",
       "      <td>Modern</td>\n",
       "      <td>Hot Water</td>\n",
       "      <td>Good</td>\n",
       "      <td>Good</td>\n",
       "      <td>Good</td>\n",
       "      <td>Normal</td>\n",
       "      <td>Average</td>\n",
       "    </tr>\n",
       "    <tr>\n",
       "      <th>3</th>\n",
       "      <td>2001661000_</td>\n",
       "      <td>57</td>\n",
       "      <td>STRATFORD</td>\n",
       "      <td>ST</td>\n",
       "      <td>02132_</td>\n",
       "      <td>862500</td>\n",
       "      <td>8333</td>\n",
       "      <td>6020</td>\n",
       "      <td>3558</td>\n",
       "      <td>1</td>\n",
       "      <td>1910</td>\n",
       "      <td>2.5</td>\n",
       "      <td>11</td>\n",
       "      <td>6</td>\n",
       "      <td>2</td>\n",
       "      <td>0</td>\n",
       "      <td>1</td>\n",
       "      <td>0</td>\n",
       "      <td>1</td>\n",
       "      <td>27</td>\n",
       "      <td>1990</td>\n",
       "      <td>Residential</td>\n",
       "      <td>Colonial</td>\n",
       "      <td>Hip</td>\n",
       "      <td>Wood Shake</td>\n",
       "      <td>Semi-Modern</td>\n",
       "      <td>Modern</td>\n",
       "      <td>Hot Water</td>\n",
       "      <td>Average</td>\n",
       "      <td>Average</td>\n",
       "      <td>Good</td>\n",
       "      <td>Normal</td>\n",
       "      <td>Average</td>\n",
       "    </tr>\n",
       "    <tr>\n",
       "      <th>4</th>\n",
       "      <td>2001662000_</td>\n",
       "      <td>61</td>\n",
       "      <td>STRATFORD</td>\n",
       "      <td>ST</td>\n",
       "      <td>02132_</td>\n",
       "      <td>789300</td>\n",
       "      <td>8232</td>\n",
       "      <td>5574</td>\n",
       "      <td>2978</td>\n",
       "      <td>1</td>\n",
       "      <td>1910</td>\n",
       "      <td>2.0</td>\n",
       "      <td>9</td>\n",
       "      <td>5</td>\n",
       "      <td>2</td>\n",
       "      <td>0</td>\n",
       "      <td>1</td>\n",
       "      <td>0</td>\n",
       "      <td>1</td>\n",
       "      <td>14</td>\n",
       "      <td>2003</td>\n",
       "      <td>Residential</td>\n",
       "      <td>Colonial</td>\n",
       "      <td>Gable</td>\n",
       "      <td>Wood Shake</td>\n",
       "      <td>Modern</td>\n",
       "      <td>Modern</td>\n",
       "      <td>Hot Water</td>\n",
       "      <td>Average</td>\n",
       "      <td>Average</td>\n",
       "      <td>Good</td>\n",
       "      <td>Normal</td>\n",
       "      <td>Average</td>\n",
       "    </tr>\n",
       "  </tbody>\n",
       "</table>\n",
       "</div>"
      ],
      "text/plain": [
       "           PID ST_NUM    ST_NAME ST_NAME_SUF ZIPCODE  Assessed_Value  \\\n",
       "0  2001658000_     43  STRATFORD          ST  02132_          963300   \n",
       "1  2001659000_     47  STRATFORD          ST  02132_          915600   \n",
       "2  2001660000_     53  STRATFORD          ST  02132_          911400   \n",
       "3  2001661000_     57  STRATFORD          ST  02132_          862500   \n",
       "4  2001662000_     61  STRATFORD          ST  02132_          789300   \n",
       "\n",
       "   Lot_Area  Gross_Area  Living_Area  Owner_Occupied  Year_Built  \\\n",
       "0     20897        7396         3887               1        1910   \n",
       "1      9856        6730         3566               1        1910   \n",
       "2      8415        6442         2843               1        1910   \n",
       "3      8333        6020         3558               1        1910   \n",
       "4      8232        5574         2978               1        1910   \n",
       "\n",
       "   Number_of_Floors  Total_Number_of_Rooms  Number_of_Bedrooms  \\\n",
       "0               2.0                     13                   4   \n",
       "1               2.0                      9                   4   \n",
       "2               2.0                     11                   6   \n",
       "3               2.5                     11                   6   \n",
       "4               2.0                      9                   5   \n",
       "\n",
       "   Number_of_Full_Baths  Number_of_Half_Baths  Number_of_Kitchens  Has_AC  \\\n",
       "0                     1                     1                   1       1   \n",
       "1                     1                     0                   1       0   \n",
       "2                     2                     1                   1       1   \n",
       "3                     2                     0                   1       0   \n",
       "4                     2                     0                   1       0   \n",
       "\n",
       "   Number_of_Fireplaces  Year_Since_Remodel_or_Build Year_Remodeled  \\\n",
       "0                     1                            3           2014   \n",
       "1                     2                           25           1992   \n",
       "2                     1                            6           2011   \n",
       "3                     1                           27           1990   \n",
       "4                     1                           14           2003   \n",
       "\n",
       "  Structure_Type Building_Style Roof_Type Exterior_Finish Main_Bathroom_Style  \\\n",
       "0    Residential       Colonial       Hip           Vinyl              Modern   \n",
       "1    Residential       Colonial       Hip      Wood Shake              Modern   \n",
       "2    Residential       Colonial     Gable      Wood Shake         Semi-Modern   \n",
       "3    Residential       Colonial       Hip      Wood Shake         Semi-Modern   \n",
       "4    Residential       Colonial     Gable      Wood Shake              Modern   \n",
       "\n",
       "  Main_Kitchen_Style Heating_type Exterior_Condition Overall_Condition  \\\n",
       "0             Modern   Forced Air            Average           Average   \n",
       "1             Modern    Hot Water            Average           Average   \n",
       "2             Modern    Hot Water               Good              Good   \n",
       "3             Modern    Hot Water            Average           Average   \n",
       "4             Modern    Hot Water            Average           Average   \n",
       "\n",
       "  Interior_Condition Interior_Finish     View  \n",
       "0            Average          Normal  Average  \n",
       "1               Good          Normal  Average  \n",
       "2               Good          Normal  Average  \n",
       "3               Good          Normal  Average  \n",
       "4               Good          Normal  Average  "
      ]
     },
     "execution_count": 8,
     "metadata": {},
     "output_type": "execute_result"
    }
   ],
   "source": [
    "df_boston_housing.head(5)"
   ]
  },
  {
   "cell_type": "code",
   "execution_count": null,
   "metadata": {
    "tags": []
   },
   "outputs": [],
   "source": [
    "df_boston_housing['Has_AC'].value_counts()"
   ]
  },
  {
   "cell_type": "code",
   "execution_count": null,
   "metadata": {},
   "outputs": [],
   "source": [
    "# customer churn data"
   ]
  },
  {
   "cell_type": "code",
   "execution_count": null,
   "metadata": {},
   "outputs": [],
   "source": [
    "df_churn_train.head(5)"
   ]
  },
  {
   "cell_type": "code",
   "execution_count": null,
   "metadata": {},
   "outputs": [],
   "source": [
    "# drop columns not relevant for training\n",
    "df=df_churn_train.drop(['Area Code','Phone'],axis=1)"
   ]
  },
  {
   "cell_type": "code",
   "execution_count": null,
   "metadata": {},
   "outputs": [],
   "source": [
    "# create a random train test ( 20 percent ) split\n",
    "msk = np.random.rand(len(df)) < 0.20\n",
    "train = df[~msk]\n",
    "test = df[msk]"
   ]
  },
  {
   "cell_type": "code",
   "execution_count": null,
   "metadata": {},
   "outputs": [],
   "source": [
    "train.shape"
   ]
  },
  {
   "cell_type": "code",
   "execution_count": null,
   "metadata": {},
   "outputs": [],
   "source": [
    "test.shape"
   ]
  },
  {
   "cell_type": "code",
   "execution_count": null,
   "metadata": {},
   "outputs": [],
   "source": [
    "# merge datasets\n",
    "df_both = pd.concat([train,test])"
   ]
  },
  {
   "cell_type": "code",
   "execution_count": null,
   "metadata": {},
   "outputs": [],
   "source": [
    "# num of rows\n",
    "df_both.shape"
   ]
  },
  {
   "cell_type": "code",
   "execution_count": null,
   "metadata": {},
   "outputs": [],
   "source": [
    "# write dataframe to csv\n",
    "df_both.to_csv('./sets/customer_churn.csv',index=False,sep=',')"
   ]
  }
 ],
 "metadata": {
  "kernelspec": {
   "display_name": "Python 3",
   "language": "python",
   "name": "python3"
  },
  "language_info": {
   "codemirror_mode": {
    "name": "ipython",
    "version": 3
   },
   "file_extension": ".py",
   "mimetype": "text/x-python",
   "name": "python",
   "nbconvert_exporter": "python",
   "pygments_lexer": "ipython3",
   "version": "3.10.12"
  }
 },
 "nbformat": 4,
 "nbformat_minor": 4
}
