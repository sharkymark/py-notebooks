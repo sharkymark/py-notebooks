{
 "cells": [
  {
   "cell_type": "code",
   "execution_count": 1,
   "id": "f7216c8f-09f0-445a-a134-9f0cc4c2946b",
   "metadata": {},
   "outputs": [
    {
     "name": "stdout",
     "output_type": "stream",
     "text": [
      "200\n"
     ]
    }
   ],
   "source": [
    "import requests\n",
    "import json\n",
    "import prettytable\n",
    "import datetime\n",
    "\n",
    "# PCU22112222112241\n",
    "# CUUR0000SA0L1E\n",
    "\n",
    "# Get the current year and previous year\n",
    "current_year = datetime.date.today().year\n",
    "previous_year = current_year - 1\n",
    "\n",
    "# Insert the years into the URL\n",
    "data = json.dumps({\"seriesid\": ['PCU22112222112241','CUUR0000SA0L1E'], \"startyear\": str(previous_year), \"endyear\": str(current_year)})\n",
    "headers = {'Content-type': 'application/json'}\n",
    "p = requests.post('https://api.bls.gov/publicAPI/v2/timeseries/data/', data=data, headers=headers)\n",
    "print(p.status_code)\n",
    "json_data = json.loads(p.text)"
   ]
  },
  {
   "cell_type": "code",
   "execution_count": 2,
   "id": "3bf76c57-bf0b-40cb-8faf-af589760798c",
   "metadata": {},
   "outputs": [
    {
     "name": "stdout",
     "output_type": "stream",
     "text": [
      "Series: PCU22112222112241\n",
      "12-month change: 5.47 (2.37%)\n",
      "Latest month: M07 - Value: 236.071\n",
      "Previous month: M06 - Value: 237.821\n",
      "Change: -1.75 (-0.74%)\n",
      "\n",
      "Series: CUUR0000SA0L1E\n",
      "12-month change: 9.81 (3.17%)\n",
      "Latest month: M07 - Value: 319.214\n",
      "Previous month: M06 - Value: 319.003\n",
      "Change: 0.21 (0.07%)\n",
      "\n"
     ]
    }
   ],
   "source": [
    "for series in json_data['Results']['series']:\n",
    "    series_name = series['seriesID']\n",
    "    print(f\"Series: {series_name}\")\n",
    "\n",
    "    x = prettytable.PrettyTable([\"series id\", \"year\", \"period\", \"value\", \"footnotes\"])\n",
    "    seriesId = series['seriesID']\n",
    "    data = series['data']\n",
    "\n",
    "    # Sort data by year and period\n",
    "    data.sort(key=lambda x: (int(x['year']), x['period']))\n",
    "\n",
    "    # Get the latest and previous months\n",
    "    latest_month = data[-1]\n",
    "    previous_month = data[-2]\n",
    "\n",
    "    latest_value = float(latest_month['value'])\n",
    "    previous_value = float(previous_month['value'])\n",
    "    change = latest_value - previous_value\n",
    "    percentage_change = (change / previous_value) * 100\n",
    "\n",
    "    # Check if there's enough data to calculate 12-month change\n",
    "    if len(data) < 13:\n",
    "        print(\"Not enough data to calculate 12-month change\")\n",
    "    else:\n",
    "        # Get the same month 12 months ago\n",
    "        same_month_12_months_ago = next((item for item in data if int(item['year']) == int(latest_month['year']) - 1 and item['period'] == latest_month['period']), None)\n",
    "        if same_month_12_months_ago:\n",
    "            same_month_12_months_ago_value = float(same_month_12_months_ago['value'])\n",
    "            twelve_month_change = latest_value - same_month_12_months_ago_value\n",
    "            twelve_month_percentage_change = (twelve_month_change / same_month_12_months_ago_value) * 100\n",
    "            print(f\"12-month change: {twelve_month_change:.2f} ({twelve_month_percentage_change:.2f}%)\")\n",
    "        else:\n",
    "            print(\"Not enough data to calculate 12-month change\")\n",
    "\n",
    "    for item in series['data']:\n",
    "        year = item['year']\n",
    "        period = item['period']\n",
    "        value = item['value']\n",
    "        footnotes = \"\"\n",
    "        for footnote in item['footnotes']:\n",
    "            if footnote:\n",
    "                footnotes = footnotes + footnote['text'] + ','\n",
    "        if 'M01' <= period <= 'M12':\n",
    "            x.add_row([seriesId, year, period, value, footnotes[0:-1]])\n",
    "\n",
    "    output = open(seriesId + '.txt', 'w')\n",
    "    output.write(x.get_string())\n",
    "    output.close()\n",
    "\n",
    "    print(f\"Latest month: {latest_month['period']} - Value: {latest_value}\")\n",
    "    print(f\"Previous month: {previous_month['period']} - Value: {previous_value}\")\n",
    "    print(f\"Change: {change:.2f} ({percentage_change:.2f}%)\")\n",
    "    print()  # Empty line for better readability"
   ]
  },
  {
   "cell_type": "code",
   "execution_count": 12,
   "id": "23fef2d3-cc33-4e8d-ad5b-6eae3ebc0481",
   "metadata": {},
   "outputs": [],
   "source": []
  },
  {
   "cell_type": "code",
   "execution_count": null,
   "id": "bcd0c254-61b0-407d-9420-35105c500f1c",
   "metadata": {},
   "outputs": [],
   "source": []
  }
 ],
 "metadata": {
  "kernelspec": {
   "display_name": "Python 3 (ipykernel)",
   "language": "python",
   "name": "python3"
  },
  "language_info": {
   "codemirror_mode": {
    "name": "ipython",
    "version": 3
   },
   "file_extension": ".py",
   "mimetype": "text/x-python",
   "name": "python",
   "nbconvert_exporter": "python",
   "pygments_lexer": "ipython3",
   "version": "3.9.19"
  }
 },
 "nbformat": 4,
 "nbformat_minor": 5
}
