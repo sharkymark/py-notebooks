{
 "cells": [
  {
   "cell_type": "code",
   "execution_count": 2,
   "id": "4e3b44ce-41a8-47d0-a555-57fdb0c9b308",
   "metadata": {},
   "outputs": [],
   "source": [
    "from datetime import date\n",
    "from gnews import *"
   ]
  },
  {
   "cell_type": "code",
   "execution_count": 3,
   "id": "a0b0f0af-c2cb-4b13-9d06-db31e667b2f7",
   "metadata": {},
   "outputs": [],
   "source": [
    "# https://pypi.org/project/gnews/"
   ]
  },
  {
   "cell_type": "code",
   "execution_count": 4,
   "id": "c1980164-0e6a-428e-85f9-3ae9fcdd290b",
   "metadata": {},
   "outputs": [],
   "source": [
    "google_news = GNews(language='en', country='US', period='1d',max_results=5)"
   ]
  },
  {
   "cell_type": "code",
   "execution_count": null,
   "id": "12730df0-e612-4fa2-8f4d-88dd565f593d",
   "metadata": {},
   "outputs": [],
   "source": []
  },
  {
   "cell_type": "code",
   "execution_count": 5,
   "id": "f0e8af9e-a94d-4db0-8ad2-e7e670f6dd40",
   "metadata": {
    "scrolled": true
   },
   "outputs": [
    {
     "name": "stdout",
     "output_type": "stream",
     "text": [
      "[{'title': 'Hamas frees six hostages as first phase of ceasefire nears end - Financial Times', 'description': 'Hamas frees six hostages as first phase of ceasefire nears end  Financial TimesFamily of Israeli hostage Shiri Bibas says new returned body is hers  BBC.comReleased hostages Hisham al-Sayed and Omer Wenkert arrive in the hospital  The Times of IsraelLive Updates: Hamas Is Set to Release More Hostages From Gaza  The New York TimesHamas releases more hostages in exchange for more than 600 Palestinian prisoners as part of ceasefire deal  Fox News', 'published date': 'Sat, 22 Feb 2025 15:22:17 GMT', 'url': 'https://news.google.com/rss/articles/CBMicEFVX3lxTFAxVE9GalpLLWZJSlAyZllpM3pvOFBLam9BamVwOUZLTEdIQXpfcFUxcjVIWkRKTldqZHpzWUtiSWhqUFJiMHBzZ0JBd0xqWFJuS0d1RG9GYzNWN2l5bGV6bHNZRVBqeVVHOGFQaHpwRko?oc=5&hl=en-US&gl=US&ceid=US:en', 'publisher': {'href': 'https://www.ft.com', 'title': 'Financial Times'}}, {'title': 'Trump administration fires top US general and Navy chief in unprecedented purge of military leadership - CNN', 'description': 'Trump administration fires top US general and Navy chief in unprecedented purge of military leadership  CNNTrump fires chairman of the Joint Chiefs of Staff Gen. Charles Q. Brown Jr.  NPRFiring of Joint Chiefs Chairman and Others Draws Criticism  The New York TimesWho is Dan Caine, Trump’s pick as chairman of the Joint Chiefs of Staff?  The Washington PostA Friday-Night Massacre at the Pentagon  The Atlantic', 'published date': 'Sat, 22 Feb 2025 02:41:00 GMT', 'url': 'https://news.google.com/rss/articles/CBMijwFBVV95cUxQUndDRFJCOUVLTVo3WWUtNkZQWFlLSlIyRFVEby1RbnUxTE8wLTBkZWFIT25iNXFFZVdHeEJmQ2NOWEFaQVZDR2JCRmVwd1BobzJiQVRjdXU1dllrNmJHUGI1Q1EtNld4MHJKcURja1d2emt2dGVNUGhONzVWYWF4dl9HZDVQejhXM19wcExiVdIBhgFBVV95cUxQN3hiaVdpQWhDUXU2bE5vYXI5YXJwTGtTWlVqNUZldmg3VWpKUk51ZTcyOENpR2t0UGQtYzNyWUFkb3hQOFFLQkJzRFZuQVVaTnVWdFhTdkd3SGR4WXE3U0NlNUg3RGN4RFFHRC1SNjdsQnNObXI3Z1R2bjY4T0JnLVFJVzFHdw?oc=5&hl=en-US&gl=US&ceid=US:en', 'publisher': {'href': 'https://www.cnn.com', 'title': 'CNN'}}, {'title': 'White House and Ukraine nearing rare earths deal that would tighten relationship, AP source says - The Associated Press', 'description': 'White House and Ukraine nearing rare earths deal that would tighten relationship, AP source says  The Associated PressU.S. Pressing Tough Demands in Revised Deal for Ukraine’s Minerals  The New York TimesU.S., Ukraine near deal to grant mineral rights to Washington  The Washington PostTrump ramps up Zelenskyy attacks as US official says mineral deal close  Al Jazeera EnglishDraft US-Ukraine rare earth minerals deal not one President Zelensky would accept, source says  CNN', 'published date': 'Sat, 22 Feb 2025 03:37:00 GMT', 'url': 'https://news.google.com/rss/articles/CBMiowFBVV95cUxOMDFIbGdtWThDQk5HVGltQzNVQmhmSnUwazNFcGRyRXBIQ0VhQk0wbXFZR3FLUk1HRlhaXzItTlN2MWRhdl9fMDFqdjA5NFR1Wk5VTUZzS2FsYkdKcXowTktxaXlIOHpKVXJWMjc0SDR5aGV5NUY2RmY4M3phVm4za2FIdHFxcTVXN3NIN1FsVEkxckprMzhKaU55Yi1Sb2ktc3A4?oc=5&hl=en-US&gl=US&ceid=US:en', 'publisher': {'href': 'https://apnews.com', 'title': 'The Associated Press'}}, {'title': 'NIH funding freeze stalls applications on $1.5 billion in medical research funds - NPR', 'description': 'NIH funding freeze stalls applications on $1.5 billion in medical research funds  NPRTrump Administration Stalls Scientific Research Despite Court Ruling  The New York Times\"Without funding, we lose hope\": Worcester laments possible NIH & Medicaid cuts  Worcester TelegramFederal judge delays major NIH cuts that would jeopardize medical research in Minnesota  Star Tribune‘Death by ax.’ Fate of millions of research animals at stake in NIH payments lawsuit  Science', 'published date': 'Sat, 22 Feb 2025 13:00:00 GMT', 'url': 'https://news.google.com/rss/articles/CBMiswFBVV95cUxORWdQa0tMOHBlNXRlMXZfZC1zQTRQUHQ1bC1XdVVyTWR3ak52bGVvcHpUM3EwbFlUY05WeXl2amZhQk1YZUl0c3NaVlg4REYtRUlld0NWNkMzdEx1TXFscExrUy1WbFNjNGRHMFBtS2VjSUlMbkl6SjRwQXREVU9ZY1hDdWx2VnY2TVRyTTFMLXhOZDJUTWpORVlPdUpza3NkN3FsZHF2SUJUcmYwb0ZxME9Zaw?oc=5&hl=en-US&gl=US&ceid=US:en', 'publisher': {'href': 'https://www.npr.org', 'title': 'NPR'}}, {'title': 'Column: Bass fires the L.A. fire chief, but her own smoldering political crisis is far from over - Los Angeles Times', 'description': \"Column: Bass fires the L.A. fire chief, but her own smoldering political crisis is far from over  Los Angeles TimesKaren Bass has faced tough questions. The city is making her answers hard to find  Los Angeles TimesLooking back at Kristin Crowley's career following her dismissal as LAFD's chief  ABC7 Los AngelesSTEVE HILTON: LA Mayor Bass' latest bizarre move won't fix smoldering leadership crisis  Fox News8 things to know about LA’s new Interim Fire Chief Ronnie Villanueva  Los Angeles Daily News\", 'published date': 'Sat, 22 Feb 2025 03:19:00 GMT', 'url': 'https://news.google.com/rss/articles/CBMi1AFBVV95cUxQcFZhNGF4dlRHVVZNNnVvM214T0VHQWc1eHBYdS00NENZUkJKMHVBcFdMenphTnByM0xCN19GeGdLTjRKRW9WaG9LTE9BZHZadC1aVm5QRUgxODUyTXFRMzFLNUxlQkZxX0x3MG80eEJyNV8wdzk1OUlkbEtvdkRtY1ZNc3MxWHNzalh3dHJzbF85OXJROUo5cEhMRURhNWdqR2EyZTB0TldmNWdtSWM2aTRDYktQN3FDRTJTVW83Ym13UmZXTURVOFBDTThWVW1aZTQ3bg?oc=5&hl=en-US&gl=US&ceid=US:en', 'publisher': {'href': 'https://www.latimes.com', 'title': 'Los Angeles Times'}}]\n",
      "Hamas frees six hostages as first phase of ceasefire nears end - Financial Times\n",
      "Financial Times\n",
      "https://news.google.com/rss/articles/CBMicEFVX3lxTFAxVE9GalpLLWZJSlAyZllpM3pvOFBLam9BamVwOUZLTEdIQXpfcFUxcjVIWkRKTldqZHpzWUtiSWhqUFJiMHBzZ0JBd0xqWFJuS0d1RG9GYzNWN2l5bGV6bHNZRVBqeVVHOGFQaHpwRko?oc=5&hl=en-US&gl=US&ceid=US:en\n"
     ]
    }
   ],
   "source": [
    "# get top news\n",
    "rsp = google_news.get_top_news()\n",
    "print(rsp)\n",
    "print(rsp[0]['title'])\n",
    "print(rsp[0]['publisher']['title'])\n",
    "print(rsp[0]['url'])"
   ]
  },
  {
   "cell_type": "code",
   "execution_count": null,
   "id": "5a90c8f7-ab65-4106-ba2f-bdd6b83598e5",
   "metadata": {},
   "outputs": [],
   "source": []
  },
  {
   "cell_type": "code",
   "execution_count": 5,
   "id": "a66052b6-333c-4337-8afa-e714b4b6f688",
   "metadata": {},
   "outputs": [
    {
     "name": "stderr",
     "output_type": "stream",
     "text": [
      "/tmp/ipykernel_285/1662257183.py:8: UserWarning: \n",
      "Period (1d) will be ignored in favour of the start and end dates\n",
      "  rsp = google_news.get_news(\"Austin, Texas\")\n"
     ]
    },
    {
     "name": "stdout",
     "output_type": "stream",
     "text": [
      "[{'title': 'Out with the old, in with the new: where should old electronics go? - AustinTexas.gov', 'description': 'Out with the old, in with the new: where should old electronics go?  AustinTexas.gov', 'published date': 'Fri, 10 Jan 2020 08:00:00 GMT', 'url': 'https://news.google.com/rss/articles/CBMiggFBVV95cUxPYjNDM2lBVXNWMmJ2UnpkS1pQSG1hMXJDeVFSUmc0MmtoWFRqY0Iya0FENGp2ZVpIc1ZmUmpWbDJ2SlIyeUxrYzVIZFNEM3ROWjhCek9UckRlWVByQ0lPMGJSbm5OajNaOUY1Y1Fqd1RiMlZqNHM4UVd2bC1Bdk5Ra0lR?oc=5&hl=en-US&gl=US&ceid=US:en', 'publisher': {'href': 'https://www.austintexas.gov', 'title': 'AustinTexas.gov'}}, {'title': '9 Reasons Why Austin Texas Is The No. 1 Best Place To Live - A Taste of Koko', 'description': '9 Reasons Why Austin Texas Is The No. 1 Best Place To Live  A Taste of Koko', 'published date': 'Sun, 05 Jan 2020 08:00:00 GMT', 'url': 'https://news.google.com/rss/articles/CBMiZEFVX3lxTE5NQW1CcEduYVpnV043UWt1bTJrSHdkVjdPVlMzTWxYcy1sMDRqUHZFMktNWld1U0FkVXU5R2hWVXh5RlV2M1oxeVBsdmNyeXdkYkRhY2hyazgtR3B2QU9LQVdpTU4?oc=5&hl=en-US&gl=US&ceid=US:en', 'publisher': {'href': 'https://www.atasteofkoko.com', 'title': 'A Taste of Koko'}}, {'title': 'Google Fiber High-Speed Internet Has Changed Austin, Texas - Government Technology', 'description': 'Google Fiber High-Speed Internet Has Changed Austin, Texas  Government Technology', 'published date': 'Mon, 06 Jan 2020 08:00:00 GMT', 'url': 'https://news.google.com/rss/articles/CBMimgFBVV95cUxPRGNpNEpKRmtwWF9GRmUxZ05aN04yVnZ4cUEzamlXb1JwRWo1RFMwallPWmpySHl5blRQTWt4Qkl0UjZJZzZySzgyaGNGdk1Ua2FnY2NFUzhJRmR4T0NZRnB6dnprdkFqczh2azVhYTJrWEd6UUVWVTlzTWlLWF80S3BLTVdJY0o2Uml6TG5VNENHUUNSeGtDM1d3?oc=5&hl=en-US&gl=US&ceid=US:en', 'publisher': {'href': 'https://www.govtech.com', 'title': 'Government Technology'}}, {'title': 'Austin police will stop arrests, tickets in most low-level marijuana cases after unanimous City Council vote - The Texas Tribune', 'description': 'Austin police will stop arrests, tickets in most low-level marijuana cases after unanimous City Council vote  The Texas Tribune', 'published date': 'Thu, 23 Jan 2020 08:00:00 GMT', 'url': 'https://news.google.com/rss/articles/CBMiqAFBVV95cUxPNkNBMnMwZlRubEtUaTRQUnF0a0p2OFEyLWhhU3g3U2ZWVE9tWnpGTHo1M0lEUzZiY2Z3Y3pfdlM1THVqSmRuTjM0bzFEbmxwUV83bGRSWmRzVC1KVUsyYkRhUGVIREszWXhTanB0R0JEOHk0WnFpYkl3VzVMR2Q3LXZKVDhFQ1hsVGRweS15UXZOOUxGbzdZUzZnNzVDQjhNMm8tb3dSOUY?oc=5&hl=en-US&gl=US&ceid=US:en', 'publisher': {'href': 'https://www.texastribune.org', 'title': 'The Texas Tribune'}}, {'title': 'Austin, Texas HIV Epidemic: Blue City, Red State - TheBody', 'description': 'Austin, Texas HIV Epidemic: Blue City, Red State  TheBody', 'published date': 'Mon, 27 Jan 2020 08:00:00 GMT', 'url': 'https://news.google.com/rss/articles/CBMigwFBVV95cUxPd1d6b1lRdmx1VFcyUEs0VUM4QXdueUFZa2RlRkpZOXJIWmdkZEI5SE1WMm1YYXcwRURHSnJtWV9rbEtjemlfNG5ibTNJa2gzM0F5NTFsc1BCWndpM2Q5RU5GVFVScXFLUUs2Y0JBaVVFU2lINDhzWjJ1OTVENE9LYjJ1Yw?oc=5&hl=en-US&gl=US&ceid=US:en', 'publisher': {'href': 'https://www.thebody.com', 'title': 'TheBody'}}, {'title': '10 years ago, a man purposely crashed his plane into an Austin IRS office building - KEYE TV CBS Austin', 'description': '10 years ago, a man purposely crashed his plane into an Austin IRS office building  KEYE TV CBS Austin', 'published date': 'Wed, 19 Feb 2020 08:00:00 GMT', 'url': 'https://news.google.com/rss/articles/CBMitAFBVV95cUxPRnhONlltYk9hYWh1dUhUanlzV21NT2FOSzRiNnhtY2lXZzd1QTd1WlhpMTVWNk5BNGNfelB2UmNVaFktU3JJRlk1ZFVucWJ4c3g5VG9wcTRjWkhnMkJtWFREV094czJrcnEwb0xISW5PRkNsdFRhWnlCS2VRczNxdzdGc0F2Z2dlNFhCVUtoeFZYSXBURGZSVXZKZzQ4TzBLcXoyTzNFOC03RjhsMW1Fb2pVMVbSAboBQVVfeXFMTzF0ZDctaVF1YUFpQnU3ZFF3ejZvM21jaDEya0pSZFNCeHoxTGllaUwyMUdoUGVaMTZIbTVDUzg3czVTVHlMR1ppZGRFdzZna2Frc3NETUctSDZwaGZsVGhkMGl5WVdweHFpODNTRHFXTFNwTU16NlJVNlVTNngwNy1sY3JCZE9sc0NSck5NcmhCcVJMa0ZFemExMXZBdmtxcUYwOUtuWmY5X3hHLWdSRXpXNTNWaEx2YTln?oc=5&hl=en-US&gl=US&ceid=US:en', 'publisher': {'href': 'https://cbsaustin.com', 'title': 'KEYE TV CBS Austin'}}, {'title': 'Austin doctor hurt in ambulance crash fighting city for settlement - KXAN.com', 'description': 'Austin doctor hurt in ambulance crash fighting city for settlement  KXAN.com', 'published date': 'Sun, 09 Feb 2020 08:00:00 GMT', 'url': 'https://news.google.com/rss/articles/CBMiqgFBVV95cUxNbnBHcWpaM1hYRUo0X2lZTWVYcTdLVV83RjFXRUQ1dEdyUDVlWTBINnA2dmpndjBPUzJ3X3Q2dXJzYzVONUpvUjB3UXp5dmZTRzVwNnBMRmpvRUJsUzhvbGxSZHM3M0ZWdDQtRm5TYnc0U1oxNm01YWV4ZkxKMlB4VTBQZmRuMmY2Ql9YRDQ2Z0d6ZzQ4QzA1QlpSM0JxQUdfQWVrNUR1WmFEd9IBrwFBVV95cUxPS0lqRjhHaFowWXZjQVd3SjZyQTZIQjdHTTNIc2VoWFBteXhUMXdPb3JLM2xrNHJmbUVWSU1MR01tYXVCdG5maWx3SVlNa3ZySHZJaHpreXNCVHRySU1kVjNEN3I2blExd0puNms4N0J6aVV3LXJvQS04Ui15aGhoa3hqTzlJWUl2ZTRFVUpVbThqaTZ5cVpIdS1JQW50XzltOE8zWFNUNGhhS25TYXBR?oc=5&hl=en-US&gl=US&ceid=US:en', 'publisher': {'href': 'https://www.kxan.com', 'title': 'KXAN.com'}}, {'title': 'Austin’s best gardening and plant stores - Curbed Austin', 'description': 'Austin’s best gardening and plant stores  Curbed Austin', 'published date': 'Fri, 07 Feb 2020 08:00:00 GMT', 'url': 'https://news.google.com/rss/articles/CBMic0FVX3lxTE5wRjM5WHZjT0R3SXNmbGdrN3BVdXY3blVyZkNtS3pGbm1MYWo3a2JMcTltV0FKcG9tdzZicjB3eWNfamx6Ny04LVh1S09ZMG9ITURjSTJTTmY2ZzdTdktLNmhWRlY3NklpS01lNUFpLTRTR2c?oc=5&hl=en-US&gl=US&ceid=US:en', 'publisher': {'href': 'https://austin.curbed.com', 'title': 'Curbed Austin'}}, {'title': 'Austin FC Continues to Strengthen Front Office With Additional Key Hires - Austin FC', 'description': 'Austin FC Continues to Strengthen Front Office With Additional Key Hires  Austin FC', 'published date': 'Thu, 06 Feb 2020 08:00:00 GMT', 'url': 'https://news.google.com/rss/articles/CBMimgFBVV95cUxNUHlQYmkwMlV5N0xCY0Z3V1cweFJRV01MTFB5MEFVcXI5TkhrSlVXUlA5SS04UXBMSXdoZnJ3RFZNQTlVZHlaLUhpMmNVNnhVTlFIZlBEbUV2cDc2QW8tT0NBZVVlRHZzWDZZbUdtQko1bXVEc3RWTVFETDJPaVBBRVI3aWpVVWNHcmthRnNqMDExYmNQVlpNYzBn?oc=5&hl=en-US&gl=US&ceid=US:en', 'publisher': {'href': 'https://www.austinfc.com', 'title': 'Austin FC'}}, {'title': 'Former airport turns into complete community - Congress for the New Urbanism', 'description': 'Former airport turns into complete community  Congress for the New Urbanism', 'published date': 'Mon, 27 Jan 2020 08:00:00 GMT', 'url': 'https://news.google.com/rss/articles/CBMiiwFBVV95cUxOaWk5WUVrd2s5MVl6LUxJbzZzcDRHT3NGRjg5MnozQ1VLS08wRDNQSkdzSVZ2Y3JWNHJ3ZmlFc2FyWWI5bjR2MXN6eGloVVZ5a3VCV3h4WThHdVVzbkFKMV9idVNGTjFmVDYzSUsybFp6elBaTDJkUEdfbnhkSWk0eWZ2SExfT21mTldV?oc=5&hl=en-US&gl=US&ceid=US:en', 'publisher': {'href': 'https://www.cnu.org', 'title': 'Congress for the New Urbanism'}}]\n"
     ]
    }
   ],
   "source": [
    "\n",
    "#google_news.period = '7d'  # News from last 7 days\n",
    "google_news.max_results = 10  # number of responses across a keyword\n",
    "#google_news.country = 'United States'  # News from a specific country \n",
    "#google_news.language = 'english'  # News in a specific language\n",
    "#google_news.exclude_websites = ['yahoo.com', 'cnn.com']  # Exclude news from specific website i.e Yahoo.com and CNN.com\n",
    "google_news.start_date = (2020, 1, 1) # Search from 1st Jan 2020\n",
    "google_news.end_date = (2020, 3, 1) # Search until 1st March 2020\n",
    "rsp = google_news.get_news(\"Austin, Texas\")\n",
    "#rsp = google_news.get_top_news()\n",
    "print(rsp)"
   ]
  },
  {
   "cell_type": "code",
   "execution_count": 6,
   "id": "55c81158-0be8-4995-b578-a2d92313bea9",
   "metadata": {
    "scrolled": true
   },
   "outputs": [
    {
     "name": "stdout",
     "output_type": "stream",
     "text": [
      "(('Australia', 'Botswana', 'Canada ', 'Ethiopia', 'Ghana', 'India ', 'Indonesia', 'Ireland', 'Israel ', 'Kenya', 'Latvia', 'Malaysia', 'Namibia', 'New Zealand', 'Nigeria', 'Pakistan', 'Philippines', 'Singapore', 'South Africa', 'Tanzania', 'Uganda', 'United Kingdom', 'United States', 'Zimbabwe', 'Czech Republic', 'Germany', 'Austria', 'Switzerland', 'Argentina', 'Chile', 'Colombia', 'Cuba', 'Mexico', 'Peru', 'Venezuela', 'Belgium ', 'France', 'Morocco', 'Senegal', 'Italy', 'Lithuania', 'Hungary', 'Netherlands', 'Norway', 'Poland', 'Brazil', 'Portugal', 'Romania', 'Slovakia', 'Slovenia', 'Sweden', 'Vietnam', 'Turkey', 'Greece', 'Bulgaria', 'Russia', 'Ukraine ', 'Serbia', 'United Arab Emirates', 'Saudi Arabia', 'Lebanon', 'Egypt', 'Bangladesh', 'Thailand', 'China', 'Taiwan', 'Hong Kong', 'Japan', 'Republic of Korea'),)\n"
     ]
    }
   ],
   "source": [
    "\n",
    "available_countries = GNews().countries\n",
    "print(available_countries)"
   ]
  },
  {
   "cell_type": "code",
   "execution_count": 7,
   "id": "4b0945f6-f5f3-4c64-951a-dfb3480ac5be",
   "metadata": {},
   "outputs": [
    {
     "name": "stdout",
     "output_type": "stream",
     "text": [
      "(('english', 'indonesian', 'czech', 'german', 'spanish', 'french', 'italian', 'latvian', 'lithuanian', 'hungarian', 'dutch', 'norwegian', 'polish', 'portuguese brasil', 'portuguese portugal', 'romanian', 'slovak', 'slovenian', 'swedish', 'vietnamese', 'turkish', 'greek', 'bulgarian', 'russian', 'serbian', 'ukrainian', 'hebrew', 'arabic', 'marathi', 'hindi', 'bengali', 'tamil', 'telugu', 'malyalam', 'thai', 'chinese simplified', 'chinese traditional', 'japanese', 'korean'),)\n"
     ]
    }
   ],
   "source": [
    "available_languages = GNews().languages\n",
    "print(available_languages)"
   ]
  },
  {
   "cell_type": "code",
   "execution_count": null,
   "id": "df23951a-c985-451b-aef0-c4aba8ca5ea4",
   "metadata": {},
   "outputs": [],
   "source": []
  }
 ],
 "metadata": {
  "kernelspec": {
   "display_name": "Python 3",
   "language": "python",
   "name": "python3"
  },
  "language_info": {
   "codemirror_mode": {
    "name": "ipython",
    "version": 3
   },
   "file_extension": ".py",
   "mimetype": "text/x-python",
   "name": "python",
   "nbconvert_exporter": "python",
   "pygments_lexer": "ipython3",
   "version": "3.10.12"
  }
 },
 "nbformat": 4,
 "nbformat_minor": 5
}
